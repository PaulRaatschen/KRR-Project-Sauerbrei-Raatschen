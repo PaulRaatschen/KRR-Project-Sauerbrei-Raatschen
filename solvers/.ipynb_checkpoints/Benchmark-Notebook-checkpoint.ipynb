{
 "cells": [
  {
   "cell_type": "markdown",
   "id": "700d6e3e",
   "metadata": {},
   "source": [
    "# Plan-Merging-Project-Sauerbrei-Raatschen\n",
    "## Notebook for visualising data"
   ]
  },
  {
   "cell_type": "markdown",
   "id": "7245116e",
   "metadata": {},
   "source": [
    "### Setting up the project"
   ]
  },
  {
   "cell_type": "code",
   "execution_count": 1,
   "id": "6b92e0d7",
   "metadata": {},
   "outputs": [],
   "source": [
    "import numpy as np\n",
    "import pandas as pd\n",
    "from matplotlib.pyplot import figure"
   ]
  },
  {
   "cell_type": "code",
   "execution_count": 2,
   "id": "1f75e66f",
   "metadata": {},
   "outputs": [],
   "source": [
    "#df = pd.read_csv(\"./solvers/results.csv\")\n",
    "df = pd.read_csv(\"./results.csv\")\n",
    "solveddf = df[df['satisfied'] == True]\n",
    "\n",
    "\n",
    "allSolver = [\"IS\",\"PP\",\"CBS-SOC\",\"GICBS-SOC\",\"ICBS-SOC\",\"MCBS-SOC\",\"MICBS-SOC\",\"CBS-MS\",\"GICBS-MS\",\"ICBS-MS\",\"MCBS-MS\",\"MICBS-MS\"]\n",
    "\n",
    "#allSolver = [\"IS\",\"PP\",\"CBS-SOC\",\"GICBS-SOC\"]\n",
    "\n",
    "filterSolved = True"
   ]
  },
  {
   "cell_type": "code",
   "execution_count": 3,
   "id": "82fe390c",
   "metadata": {},
   "outputs": [],
   "source": [
    "#Splitting data by solver \n",
    "\n",
    "#Dataframe of sequential planning\n",
    "spdf = df[df['solver'] == 'IS']\n",
    "\n",
    "#Dataframe of prioritized planning\n",
    "ppdf = df[df['solver'] == 'PP']\n",
    "\n",
    "#Dataframe of cbs\n",
    "cbsdf = df[df['solver'] == 'CBS-SOC']\n",
    "\n",
    "singledf= {}\n",
    "\n",
    "for solver in allSolver:\n",
    "    singledf[solver] = df[df['solver'] == solver]\n",
    "    \n"
   ]
  },
  {
   "cell_type": "code",
   "execution_count": 4,
   "id": "ddfb9432",
   "metadata": {},
   "outputs": [],
   "source": [
    "#Joining data by instance\n",
    "\n",
    "combineddf = singledf[allSolver[0]].set_index('instance').add_suffix(\"_\"+allSolver[0])\n",
    "\n",
    "for i in range(1,len(allSolver)):\n",
    "\n",
    "    combineddf = combineddf.join(singledf[allSolver[i]].set_index('instance').add_suffix('_'+allSolver[i]),lsuffix=\"\",rsuffix=\"\")\n"
   ]
  },
  {
   "cell_type": "markdown",
   "id": "5b5560e1",
   "metadata": {},
   "source": [
    "## Functions"
   ]
  },
  {
   "cell_type": "code",
   "execution_count": 15,
   "id": "da86c089",
   "metadata": {
    "scrolled": true
   },
   "outputs": [
    {
     "name": "stdout",
     "output_type": "stream",
     "text": [
      "          tag_IS solver_IS  makespan_IS  norm_makespan_IS  soc_IS  \\\n",
      "instance                                                            \n",
      "X3Y3R5.3       0        IS         34.0         11.333333   164.0   \n",
      "\n",
      "          norm_soc_IS  total_moves_IS  norm_total_moves_IS  exec_time_IS  \\\n",
      "instance                                                                   \n",
      "X3Y3R5.3    12.615385              19             1.461538      3.115053   \n",
      "\n",
      "          satisfied_IS  ...  tag_MICBS-MS solver_MICBS-MS  makespan_MICBS-MS  \\\n",
      "instance                ...                                                    \n",
      "X3Y3R5.3         False  ...           0.0        MICBS-MS                3.0   \n",
      "\n",
      "          norm_makespan_MICBS-MS  soc_MICBS-MS  norm_soc_MICBS-MS  \\\n",
      "instance                                                            \n",
      "X3Y3R5.3                     1.0          14.0           1.076923   \n",
      "\n",
      "          total_moves_MICBS-MS  norm_total_moves_MICBS-MS  exec_time_MICBS-MS  \\\n",
      "instance                                                                        \n",
      "X3Y3R5.3                  13.0                        1.0             0.22948   \n",
      "\n",
      "         satisfied_MICBS-MS  \n",
      "instance                     \n",
      "X3Y3R5.3               True  \n",
      "\n",
      "[1 rows x 120 columns]\n"
     ]
    },
    {
     "ename": "ValueError",
     "evalue": "The truth value of a Series is ambiguous. Use a.empty, a.bool(), a.item(), a.any() or a.all().",
     "output_type": "error",
     "traceback": [
      "\u001b[1;31m---------------------------------------------------------------------------\u001b[0m",
      "\u001b[1;31mValueError\u001b[0m                                Traceback (most recent call last)",
      "\u001b[1;32m<ipython-input-15-81ac5ea689ef>\u001b[0m in \u001b[0;36m<module>\u001b[1;34m\u001b[0m\n\u001b[0;32m     78\u001b[0m \u001b[1;33m\u001b[0m\u001b[0m\n\u001b[0;32m     79\u001b[0m \u001b[1;33m\u001b[0m\u001b[0m\n\u001b[1;32m---> 80\u001b[1;33m \u001b[0mplotInstance\u001b[0m\u001b[1;33m(\u001b[0m\u001b[1;34m\"X3Y3R5.3\"\u001b[0m\u001b[1;33m,\u001b[0m \u001b[0mcombineddf\u001b[0m\u001b[1;33m,\u001b[0m\u001b[1;34m\"makespan\"\u001b[0m\u001b[1;33m)\u001b[0m\u001b[1;33m\u001b[0m\u001b[1;33m\u001b[0m\u001b[0m\n\u001b[0m\u001b[0;32m     81\u001b[0m \u001b[0mprint\u001b[0m\u001b[1;33m(\u001b[0m\u001b[0maverageValue\u001b[0m\u001b[1;33m(\u001b[0m\u001b[1;34m\"X3Y3R\"\u001b[0m\u001b[1;33m,\u001b[0m\u001b[1;34m\"IS\"\u001b[0m\u001b[1;33m,\u001b[0m \u001b[0mcombineddf\u001b[0m\u001b[1;33m,\u001b[0m\u001b[1;34m\"exec_time\"\u001b[0m\u001b[1;33m,\u001b[0m \u001b[0miterationNumber\u001b[0m \u001b[1;33m=\u001b[0m \u001b[1;36m1\u001b[0m\u001b[1;33m)\u001b[0m\u001b[1;33m)\u001b[0m\u001b[1;33m\u001b[0m\u001b[1;33m\u001b[0m\u001b[0m\n\u001b[0;32m     82\u001b[0m \u001b[1;33m\u001b[0m\u001b[0m\n",
      "\u001b[1;32m<ipython-input-15-81ac5ea689ef>\u001b[0m in \u001b[0;36mplotInstance\u001b[1;34m(instanceName, df, dataToPlot)\u001b[0m\n\u001b[0;32m     16\u001b[0m     \u001b[1;32mfor\u001b[0m \u001b[0mi\u001b[0m \u001b[1;32min\u001b[0m \u001b[0mallSolver\u001b[0m\u001b[1;33m:\u001b[0m\u001b[1;33m\u001b[0m\u001b[1;33m\u001b[0m\u001b[0m\n\u001b[0;32m     17\u001b[0m         \u001b[1;32mif\u001b[0m\u001b[1;33m(\u001b[0m\u001b[0mfilterSolved\u001b[0m\u001b[1;33m)\u001b[0m\u001b[1;33m:\u001b[0m\u001b[1;33m\u001b[0m\u001b[1;33m\u001b[0m\u001b[0m\n\u001b[1;32m---> 18\u001b[1;33m             \u001b[1;32mif\u001b[0m\u001b[1;33m(\u001b[0m\u001b[0mnewdf\u001b[0m\u001b[1;33m[\u001b[0m\u001b[1;34m'satisfied'\u001b[0m\u001b[1;33m+\u001b[0m\u001b[1;34m\"_\"\u001b[0m\u001b[1;33m+\u001b[0m\u001b[0mi\u001b[0m\u001b[1;33m]\u001b[0m \u001b[1;33m==\u001b[0m \u001b[1;32mFalse\u001b[0m\u001b[1;33m)\u001b[0m\u001b[1;33m:\u001b[0m\u001b[1;33m\u001b[0m\u001b[1;33m\u001b[0m\u001b[0m\n\u001b[0m\u001b[0;32m     19\u001b[0m                 \u001b[1;32mcontinue\u001b[0m\u001b[1;33m\u001b[0m\u001b[1;33m\u001b[0m\u001b[0m\n\u001b[0;32m     20\u001b[0m         \u001b[0mkeyTable\u001b[0m\u001b[1;33m.\u001b[0m\u001b[0mappend\u001b[0m\u001b[1;33m(\u001b[0m\u001b[0mdataToPlot\u001b[0m\u001b[1;33m+\u001b[0m\u001b[1;34m\"_\"\u001b[0m\u001b[1;33m+\u001b[0m\u001b[0mi\u001b[0m\u001b[1;33m)\u001b[0m\u001b[1;33m\u001b[0m\u001b[1;33m\u001b[0m\u001b[0m\n",
      "\u001b[1;32m~\\anaconda3\\lib\\site-packages\\pandas\\core\\generic.py\u001b[0m in \u001b[0;36m__nonzero__\u001b[1;34m(self)\u001b[0m\n\u001b[0;32m   1440\u001b[0m     \u001b[1;33m@\u001b[0m\u001b[0mfinal\u001b[0m\u001b[1;33m\u001b[0m\u001b[1;33m\u001b[0m\u001b[0m\n\u001b[0;32m   1441\u001b[0m     \u001b[1;32mdef\u001b[0m \u001b[0m__nonzero__\u001b[0m\u001b[1;33m(\u001b[0m\u001b[0mself\u001b[0m\u001b[1;33m)\u001b[0m\u001b[1;33m:\u001b[0m\u001b[1;33m\u001b[0m\u001b[1;33m\u001b[0m\u001b[0m\n\u001b[1;32m-> 1442\u001b[1;33m         raise ValueError(\n\u001b[0m\u001b[0;32m   1443\u001b[0m             \u001b[1;34mf\"The truth value of a {type(self).__name__} is ambiguous. \"\u001b[0m\u001b[1;33m\u001b[0m\u001b[1;33m\u001b[0m\u001b[0m\n\u001b[0;32m   1444\u001b[0m             \u001b[1;34m\"Use a.empty, a.bool(), a.item(), a.any() or a.all().\"\u001b[0m\u001b[1;33m\u001b[0m\u001b[1;33m\u001b[0m\u001b[0m\n",
      "\u001b[1;31mValueError\u001b[0m: The truth value of a Series is ambiguous. Use a.empty, a.bool(), a.item(), a.any() or a.all()."
     ]
    }
   ],
   "source": [
    "def plotInstance(instanceName : str, df : pd.DataFrame,dataToPlot :str):\n",
    "    \"\"\"\n",
    "    plot_Instance Plots all the results of all solvers for a specific instance\n",
    "\n",
    "    :param instanceName: Name of the instance to analyze\n",
    "    :param df: Dataframe indexed by instance\n",
    "    :return: None\n",
    "    \"\"\" \n",
    "    \n",
    "    newdf = df.filter(like = instanceName, axis = 0)\n",
    "    print(newdf)\n",
    "    \n",
    "    \n",
    "    keyTable = []\n",
    "    \n",
    "    for i in allSolver:\n",
    "        if(filterSolved): \n",
    "            if(newdf['satisfied'+\"_\"+i].item() == False):\n",
    "                continue\n",
    "        keyTable.append(dataToPlot+\"_\"+i)\n",
    "    \n",
    "    ax = newdf[keyTable].plot.bar(title = dataToPlot+' of all solvers')\n",
    "\n",
    "\n",
    "def averageValue(instanceName : str,solverName : str, df : pd.DataFrame,dataToPlot: str, iterationNumber = -1):\n",
    "    \"\"\"\n",
    "    plot_Instance Plots all the results of all solvers for a specific instance\n",
    "\n",
    "    :param instanceName: Name of the instance\n",
    "    :param solverName: Name of the used solver, e.g. \"SP\", \"PP\", \"CBS\"\n",
    "    :param df: Dataframe indexed by instance\n",
    "    :param iterationNumber: (Optional) number of iteration to be looked at\n",
    "    :return: None\n",
    "    \"\"\" \n",
    "    if iterationNumber != -1: instanceName = instanceName+str(iterationNumber)\n",
    "        \n",
    "    newdf = df.filter(like = instanceName, axis = 0)\n",
    "    \n",
    "    if(filterSolved): newdf = newdf[newdf['satisfied'+\"_\"+solverName] == True]\n",
    "    \n",
    "    newdf = newdf[dataToPlot+\"_\"+solverName]\n",
    "    print(newdf.size)\n",
    "    if newdf.size == 0:\n",
    "        return 0\n",
    "    \n",
    "    return newdf.sum() / newdf.size\n",
    "\n",
    "def plotScale(instanceName : str, df : pd.DataFrame, dataToPlot: str):\n",
    "    \"\"\"\n",
    "    plot_Instance Plots all the results of all solvers for a specific instance\n",
    "\n",
    "    :param instanceName: Name of the instance\n",
    "    :param df: Dataframe indexed by instance\n",
    "    :return: A list, containing for every solver a dataframe, with the avg_time per iteration\n",
    "    \"\"\" \n",
    "    newdf = df.filter(like = instanceName, axis = 0)\n",
    "\n",
    "    allResults = []\n",
    "    \n",
    "    for solver in allSolver:\n",
    "        solverResult = pd.DataFrame(columns = ['iteration','avg_'+dataToPlot])\n",
    "        numberOfIterations = len(newdf.filter(like = instanceName,axis = 0)) // len(newdf.filter(like = instanceName+\"1.\",axis = 0))\n",
    "        print(len(newdf.filter(like = instanceName,axis = 0)))\n",
    "        for i in range(1,numberOfIterations+2):\n",
    "            avg_value = averageValue(instanceName,solver, newdf,dataToPlot, iterationNumber = i)\n",
    "            if(avg_value == 0): continue\n",
    "            solverResult = solverResult.append(pd.DataFrame({'iteration':[i],'avg_'+dataToPlot:[avg_value]}),ignore_index=True)\n",
    "        allResults.append(solverResult)\n",
    "        \n",
    "    ax = allResults[0].plot(x='iteration',y='avg_'+dataToPlot,label=allSolver[0])\n",
    "    for dataNumber in range(1,len(allResults)):\n",
    "        allResults[dataNumber].plot(ax=ax,x='iteration',y='avg_'+dataToPlot,label=allSolver[dataNumber],figsize=(15,5))\n",
    "    ax.set_ylabel(\"Average \" + dataToPlot + \" value\")\n",
    "    \n",
    "    return ax\n",
    "    \n",
    "\n",
    "    \n",
    "    \n",
    "plotInstance(\"X3Y3R5.3\", combineddf,\"makespan\")\n",
    "print(averageValue(\"X3Y3R\",\"IS\", combineddf,\"exec_time\", iterationNumber = 1))\n",
    "\n",
    "dataOfThePlot = plotScale(\"X3Y3R\",combineddf, \"exec_time\")\n",
    "\n"
   ]
  },
  {
   "cell_type": "markdown",
   "id": "b06c9e0c",
   "metadata": {},
   "source": [
    "### Plotting data"
   ]
  },
  {
   "cell_type": "code",
   "execution_count": 6,
   "id": "5b36d905",
   "metadata": {},
   "outputs": [
    {
     "data": {
      "text/plain": [
       "<AxesSubplot:title={'center':'Exec_time for cbs'}, xlabel='instance'>"
      ]
     },
     "execution_count": 6,
     "metadata": {},
     "output_type": "execute_result"
    },
    {
     "data": {
      "image/png": "[encoded data removed]",
      "text/plain": [
       "<Figure size 432x288 with 1 Axes>"
      ]
     },
     "metadata": {
      "needs_background": "light"
     },
     "output_type": "display_data"
    },
    {
     "data": {
      "image/png": "[encoded data removed]",
      "text/plain": [
       "<Figure size 432x288 with 1 Axes>"
      ]
     },
     "metadata": {
      "needs_background": "light"
     },
     "output_type": "display_data"
    },
    {
     "data": {
      "image/png": "[encoded data removed]",
      "text/plain": [
       "<Figure size 432x288 with 1 Axes>"
      ]
     },
     "metadata": {
      "needs_background": "light"
     },
     "output_type": "display_data"
    }
   ],
   "source": [
    "spdf[['instance','exec_time']].plot.bar( x = 'instance', title = 'Exec_time for sequential planning')\n",
    "ppdf[['instance','exec_time']].plot.bar( x = 'instance', title = 'Exec_time for prioritized planning')\n",
    "cbsdf[['instance','exec_time']].plot.bar( x = 'instance', title = 'Exec_time for cbs')"
   ]
  },
  {
   "cell_type": "code",
   "execution_count": 7,
   "id": "f04a5fc1",
   "metadata": {},
   "outputs": [
    {
     "data": {
      "text/plain": [
       "<AxesSubplot:title={'center':'Exec_time of all solvers'}, xlabel='instance'>"
      ]
     },
     "execution_count": 7,
     "metadata": {},
     "output_type": "execute_result"
    },
    {
     "data": {
      "image/png": "[encoded data removed]",
      "text/plain": [
       "<Figure size 432x288 with 1 Axes>"
      ]
     },
     "metadata": {
      "needs_background": "light"
     },
     "output_type": "display_data"
    }
   ],
   "source": [
    "combineddf[['exec_time_IS','exec_time_PP' ]].plot.bar(title = 'Exec_time of all solvers')"
   ]
  },
  {
   "cell_type": "code",
   "execution_count": null,
   "id": "4638db98",
   "metadata": {},
   "outputs": [],
   "source": []
  }
 ],
 "metadata": {
  "kernelspec": {
   "display_name": "Python 3",
   "language": "python",
   "name": "python3"
  },
  "language_info": {
   "codemirror_mode": {
    "name": "ipython",
    "version": 3
   },
   "file_extension": ".py",
   "mimetype": "text/x-python",
   "name": "python",
   "nbconvert_exporter": "python",
   "pygments_lexer": "ipython3",
   "version": "3.8.8"
  },
  "vscode": {
   "interpreter": {
    "hash": "d2fe66ca51892a0c86cabbffb8250d628bf58d26b8ffd69d9b490e8e7e0cf919"
   }
  }
 },
 "nbformat": 4,
 "nbformat_minor": 5
}
